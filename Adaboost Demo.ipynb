{
 "cells": [
  {
   "cell_type": "code",
   "execution_count": 1,
   "metadata": {
    "collapsed": false
   },
   "outputs": [
    {
     "name": "stdout",
     "output_type": "stream",
     "text": [
      "Automatically created module for IPython interactive environment\n"
     ]
    },
    {
     "data": {
      "image/png": "[encoded data removed]",
      "text/plain": [
       "<matplotlib.figure.Figure at 0xa302eb8>"
      ]
     },
     "metadata": {},
     "output_type": "display_data"
    }
   ],
   "source": [
    "from sklearn import tree\n",
    "import graphviz \n",
    "# Copied from 'sklearn two class Adaboost'\n",
    "print(__doc__)\n",
    "\n",
    "# Author: Noel Dawe <noel.dawe@gmail.com>\n",
    "#\n",
    "# License: BSD 3 clause\n",
    "\n",
    "import numpy as np\n",
    "import matplotlib.pyplot as plt\n",
    "\n",
    "from sklearn.ensemble import AdaBoostClassifier\n",
    "from sklearn.tree import DecisionTreeClassifier\n",
    "from sklearn.datasets import make_gaussian_quantiles\n",
    "\n",
    "\n",
    "# Construct dataset\n",
    "X1, y1 = make_gaussian_quantiles(cov=2.,\n",
    "                                 n_samples=4, n_features=2,\n",
    "                                 n_classes=2, random_state=1)\n",
    "X2, y2 = make_gaussian_quantiles(mean=(3, 3), cov=1.5,\n",
    "                                 n_samples=6, n_features=2,\n",
    "                                 n_classes=2, random_state=1)\n",
    "X = np.concatenate((X1, X2))\n",
    "\n",
    "y = np.concatenate((y1, - y2 + 1))\n",
    "\n",
    "# Create and fit an AdaBoosted decision tree\n",
    "bdt = AdaBoostClassifier(DecisionTreeClassifier(max_depth=1),\n",
    "                         algorithm=\"SAMME\",\n",
    "                         n_estimators=5)\n",
    "\n",
    "bdt.fit(X, y)\n",
    "\n",
    "plot_colors = \"br\"\n",
    "plot_step = 0.02\n",
    "class_names = \"AB\"\n",
    "\n",
    "plt.figure(figsize=(10, 5))\n",
    "\n",
    "# Plot the decision boundaries\n",
    "plt.subplot(121)\n",
    "x_min, x_max = X[:, 0].min() - 1, X[:, 0].max() + 1\n",
    "y_min, y_max = X[:, 1].min() - 1, X[:, 1].max() + 1\n",
    "xx, yy = np.meshgrid(np.arange(x_min, x_max, plot_step),\n",
    "                     np.arange(y_min, y_max, plot_step))\n",
    "\n",
    "Z = bdt.predict(np.c_[xx.ravel(), yy.ravel()])\n",
    "Z = Z.reshape(xx.shape)\n",
    "cs = plt.contourf(xx, yy, Z, cmap=plt.cm.Paired)\n",
    "plt.axis(\"tight\")\n",
    "\n",
    "# Plot the training points\n",
    "for i, n, c in zip(range(2), class_names, plot_colors):\n",
    "    idx = np.where(y == i)\n",
    "    plt.scatter(X[idx, 0], X[idx, 1],\n",
    "                c=c, cmap=plt.cm.Paired,\n",
    "                s=20, edgecolor='k',\n",
    "                label=\"Class %s\" % n)\n",
    "plt.xlim(x_min, x_max)\n",
    "plt.ylim(y_min, y_max)\n",
    "plt.legend(loc='upper right')\n",
    "plt.xlabel('x')\n",
    "plt.ylabel('y')\n",
    "plt.title('Decision Boundary')\n",
    "\n",
    "# Plot the two-class decision scores\n",
    "twoclass_output = bdt.decision_function(X)\n",
    "plot_range = (twoclass_output.min(), twoclass_output.max())\n",
    "plt.subplot(122)\n",
    "for i, n, c in zip(range(2), class_names, plot_colors):\n",
    "    plt.hist(twoclass_output[y == i],\n",
    "             bins=10,\n",
    "             range=plot_range,\n",
    "             facecolor=c,\n",
    "             label='Class %s' % n,\n",
    "             alpha=.5,\n",
    "             edgecolor='k')\n",
    "x1, x2, y1, y2 = plt.axis()\n",
    "plt.axis((x1, x2, y1, y2 * 1.2))\n",
    "plt.legend(loc='upper right')\n",
    "plt.ylabel('Samples')\n",
    "plt.xlabel('Score')\n",
    "plt.title('Decision Scores')\n",
    "\n",
    "plt.tight_layout()\n",
    "plt.subplots_adjust(wspace=0.35)\n",
    "plt.show()\n",
    "\n"
   ]
  },
  {
   "cell_type": "code",
   "execution_count": 2,
   "metadata": {
    "collapsed": true
   },
   "outputs": [],
   "source": [
    "# Since I am new to boosting, would like to visualize the process of the additive of weak learners.\n",
    "# Will use 'two class adaboost' as an example to analyze the boosting process step by step\n",
    "# Here is the Algorithm of AdaBoost....\n",
    "# Initialize the observation weights Wi = 1/n, i = 1,2,...,n.\n",
    "# For m = 1 to M:\n",
    "#   (a) Fit a classifier Tm(x) to the training data using weights Wi.\n",
    "#   (b) Compute error term :err(m) = sum(Wi*I(ci!=Tm(xi)))/sum(Wi)\n",
    "#   (c) Compute alpha(m) = log((1-err(m))/err(m))\n",
    "#   (d) Set Wi <-- Wi*exp(alpha(m)*I(ci!=Tm(xi))), i=1,2,...,n. Set a larger weight for the previously misclassified\n",
    "#   observations\n",
    "#   (e) renormalize Wi = Wi/sum(Wi)\n",
    "#   Output C(x)= argmax(sumover m (alpha(m)*I(Tm(xi)=k))"
   ]
  },
  {
   "cell_type": "code",
   "execution_count": 3,
   "metadata": {
    "collapsed": false
   },
   "outputs": [
    {
     "data": {
      "text/plain": [
       "array([[ 2.29717124, -0.86515422],\n",
       "       [ 2.46753646, -1.07650912],\n",
       "       [-0.74694766, -1.51740678],\n",
       "       [ 1.22387121, -3.25486724],\n",
       "       [ 4.98940865,  2.25075447],\n",
       "       [ 4.7907092 ,  0.47685323],\n",
       "       [ 5.13694926,  2.06771575],\n",
       "       [ 4.05990356,  0.18120228],\n",
       "       [ 2.35312436,  1.68588718],\n",
       "       [ 3.3907415 ,  2.69458491]])"
      ]
     },
     "execution_count": 3,
     "metadata": {},
     "output_type": "execute_result"
    }
   ],
   "source": [
    "# X has 2 features X0,X1\n",
    "X"
   ]
  },
  {
   "cell_type": "code",
   "execution_count": 4,
   "metadata": {
    "collapsed": false
   },
   "outputs": [
    {
     "data": {
      "text/plain": [
       "array([0, 1, 0, 1, 1, 0, 0, 0, 1, 1])"
      ]
     },
     "execution_count": 4,
     "metadata": {},
     "output_type": "execute_result"
    }
   ],
   "source": [
    "y"
   ]
  },
  {
   "cell_type": "code",
   "execution_count": 5,
   "metadata": {
    "collapsed": false
   },
   "outputs": [
    {
     "data": {
      "text/plain": [
       "array([ 0.1,  0.1,  0.1,  0.1,  0.1,  0.1,  0.1,  0.1,  0.1,  0.1])"
      ]
     },
     "execution_count": 5,
     "metadata": {},
     "output_type": "execute_result"
    }
   ],
   "source": [
    "# Initialize observation weight\n",
    "weight0 = np.array([0.1]*10)\n",
    "weight0"
   ]
  },
  {
   "cell_type": "code",
   "execution_count": 6,
   "metadata": {
    "collapsed": false
   },
   "outputs": [
    {
     "data": {
      "text/plain": [
       "[DecisionTreeClassifier(class_weight=None, criterion='gini', max_depth=1,\n",
       "             max_features=None, max_leaf_nodes=None,\n",
       "             min_impurity_split=1e-07, min_samples_leaf=1,\n",
       "             min_samples_split=2, min_weight_fraction_leaf=0.0,\n",
       "             presort=False, random_state=1025899737, splitter='best'),\n",
       " DecisionTreeClassifier(class_weight=None, criterion='gini', max_depth=1,\n",
       "             max_features=None, max_leaf_nodes=None,\n",
       "             min_impurity_split=1e-07, min_samples_leaf=1,\n",
       "             min_samples_split=2, min_weight_fraction_leaf=0.0,\n",
       "             presort=False, random_state=1105291243, splitter='best'),\n",
       " DecisionTreeClassifier(class_weight=None, criterion='gini', max_depth=1,\n",
       "             max_features=None, max_leaf_nodes=None,\n",
       "             min_impurity_split=1e-07, min_samples_leaf=1,\n",
       "             min_samples_split=2, min_weight_fraction_leaf=0.0,\n",
       "             presort=False, random_state=1371072018, splitter='best'),\n",
       " DecisionTreeClassifier(class_weight=None, criterion='gini', max_depth=1,\n",
       "             max_features=None, max_leaf_nodes=None,\n",
       "             min_impurity_split=1e-07, min_samples_leaf=1,\n",
       "             min_samples_split=2, min_weight_fraction_leaf=0.0,\n",
       "             presort=False, random_state=1649962599, splitter='best'),\n",
       " DecisionTreeClassifier(class_weight=None, criterion='gini', max_depth=1,\n",
       "             max_features=None, max_leaf_nodes=None,\n",
       "             min_impurity_split=1e-07, min_samples_leaf=1,\n",
       "             min_samples_split=2, min_weight_fraction_leaf=0.0,\n",
       "             presort=False, random_state=74382194, splitter='best')]"
      ]
     },
     "execution_count": 6,
     "metadata": {},
     "output_type": "execute_result"
    }
   ],
   "source": [
    "# Adaboost has an attribute 'estimators_' by which you can access each decision tree and visualize them\n",
    "bdt.estimators_"
   ]
  },
  {
   "cell_type": "code",
   "execution_count": 7,
   "metadata": {
    "collapsed": false
   },
   "outputs": [
    {
     "data": {
      "image/svg+xml": [
       "<?xml version=\"1.0\" encoding=\"UTF-8\" standalone=\"no\"?>\r\n",
       "<!DOCTYPE svg PUBLIC \"-//W3C//DTD SVG 1.1//EN\"\r\n",
       " \"http://www.w3.org/Graphics/SVG/1.1/DTD/svg11.dtd\">\r\n",
       "<!-- Generated by graphviz version 2.38.0 (20140413.2041)\r\n",
       " -->\r\n",
       "<!-- Title: Tree Pages: 1 -->\r\n",
       "<svg width=\"268pt\" height=\"161pt\"\r\n",
       " viewBox=\"0.00 0.00 268.00 161.00\" xmlns=\"http://www.w3.org/2000/svg\" xmlns:xlink=\"http://www.w3.org/1999/xlink\">\r\n",
       "<g id=\"graph0\" class=\"graph\" transform=\"scale(1 1) rotate(0) translate(4 157)\">\r\n",
       "<title>Tree</title>\r\n",
       "<polygon fill=\"white\" stroke=\"none\" points=\"-4,4 -4,-157 264,-157 264,4 -4,4\"/>\r\n",
       "<!-- 0 -->\r\n",
       "<g id=\"node1\" class=\"node\"><title>0</title>\r\n",
       "<path fill=\"none\" stroke=\"black\" d=\"M178,-153C178,-153 81,-153 81,-153 75,-153 69,-147 69,-141 69,-141 69,-101 69,-101 69,-95 75,-89 81,-89 81,-89 178,-89 178,-89 184,-89 190,-95 190,-101 190,-101 190,-141 190,-141 190,-147 184,-153 178,-153\"/>\r\n",
       "<text text-anchor=\"start\" x=\"90.5\" y=\"-138.8\" font-family=\"Helvetica,sans-Serif\" font-size=\"14.00\">X</text>\r\n",
       "<text text-anchor=\"start\" x=\"100.5\" y=\"-138.8\" font-family=\"Helvetica,sans-Serif\" baseline-shift=\"sub\" font-size=\"14.00\">1</text>\r\n",
       "<text text-anchor=\"start\" x=\"107.5\" y=\"-138.8\" font-family=\"Helvetica,sans-Serif\" font-size=\"14.00\"> ≤ 2.1592</text>\r\n",
       "<text text-anchor=\"start\" x=\"100.5\" y=\"-124.8\" font-family=\"Helvetica,sans-Serif\" font-size=\"14.00\">gini = 0.5</text>\r\n",
       "<text text-anchor=\"start\" x=\"86\" y=\"-110.8\" font-family=\"Helvetica,sans-Serif\" font-size=\"14.00\">samples = 10</text>\r\n",
       "<text text-anchor=\"start\" x=\"77\" y=\"-96.8\" font-family=\"Helvetica,sans-Serif\" font-size=\"14.00\">value = [0.5, 0.5]</text>\r\n",
       "</g>\r\n",
       "<!-- 1 -->\r\n",
       "<g id=\"node2\" class=\"node\"><title>1</title>\r\n",
       "<path fill=\"#e58139\" fill-opacity=\"0.400000\" stroke=\"black\" d=\"M109,-53C109,-53 12,-53 12,-53 6,-53 0,-47 0,-41 0,-41 0,-12 0,-12 0,-6 6,-0 12,-0 12,-0 109,-0 109,-0 115,-0 121,-6 121,-12 121,-12 121,-41 121,-41 121,-47 115,-53 109,-53\"/>\r\n",
       "<text text-anchor=\"start\" x=\"19\" y=\"-37.8\" font-family=\"Helvetica,sans-Serif\" font-size=\"14.00\">gini = 0.4687</text>\r\n",
       "<text text-anchor=\"start\" x=\"21\" y=\"-22.8\" font-family=\"Helvetica,sans-Serif\" font-size=\"14.00\">samples = 8</text>\r\n",
       "<text text-anchor=\"start\" x=\"8\" y=\"-7.8\" font-family=\"Helvetica,sans-Serif\" font-size=\"14.00\">value = [0.5, 0.3]</text>\r\n",
       "</g>\r\n",
       "<!-- 0&#45;&gt;1 -->\r\n",
       "<g id=\"edge1\" class=\"edge\"><title>0&#45;&gt;1</title>\r\n",
       "<path fill=\"none\" stroke=\"black\" d=\"M106.332,-88.9415C99.6776,-80.0207 92.3905,-70.2517 85.624,-61.1807\"/>\r\n",
       "<polygon fill=\"black\" stroke=\"black\" points=\"88.3741,-59.0137 79.5894,-53.0908 82.7631,-63.1992 88.3741,-59.0137\"/>\r\n",
       "<text text-anchor=\"middle\" x=\"75.9895\" y=\"-74.1303\" font-family=\"Helvetica,sans-Serif\" font-size=\"14.00\">True</text>\r\n",
       "</g>\r\n",
       "<!-- 2 -->\r\n",
       "<g id=\"node3\" class=\"node\"><title>2</title>\r\n",
       "<path fill=\"#399de5\" stroke=\"black\" d=\"M248,-53C248,-53 151,-53 151,-53 145,-53 139,-47 139,-41 139,-41 139,-12 139,-12 139,-6 145,-0 151,-0 151,-0 248,-0 248,-0 254,-0 260,-6 260,-12 260,-12 260,-41 260,-41 260,-47 254,-53 248,-53\"/>\r\n",
       "<text text-anchor=\"start\" x=\"170.5\" y=\"-37.8\" font-family=\"Helvetica,sans-Serif\" font-size=\"14.00\">gini = 0.0</text>\r\n",
       "<text text-anchor=\"start\" x=\"160\" y=\"-22.8\" font-family=\"Helvetica,sans-Serif\" font-size=\"14.00\">samples = 2</text>\r\n",
       "<text text-anchor=\"start\" x=\"147\" y=\"-7.8\" font-family=\"Helvetica,sans-Serif\" font-size=\"14.00\">value = [0.0, 0.2]</text>\r\n",
       "</g>\r\n",
       "<!-- 0&#45;&gt;2 -->\r\n",
       "<g id=\"edge2\" class=\"edge\"><title>0&#45;&gt;2</title>\r\n",
       "<path fill=\"none\" stroke=\"black\" d=\"M153.004,-88.9415C159.755,-80.0207 167.147,-70.2517 174.012,-61.1807\"/>\r\n",
       "<polygon fill=\"black\" stroke=\"black\" points=\"176.89,-63.177 180.134,-53.0908 171.309,-58.9529 176.89,-63.177\"/>\r\n",
       "<text text-anchor=\"middle\" x=\"183.563\" y=\"-74.1546\" font-family=\"Helvetica,sans-Serif\" font-size=\"14.00\">False</text>\r\n",
       "</g>\r\n",
       "</g>\r\n",
       "</svg>\r\n"
      ],
      "text/plain": [
       "<graphviz.files.Source at 0x4bdf828>"
      ]
     },
     "execution_count": 7,
     "metadata": {},
     "output_type": "execute_result"
    }
   ],
   "source": [
    "# First decision tree\n",
    "dot_data = tree.export_graphviz(bdt.estimators_[0], out_file=None, filled=True, rounded=True, special_characters=True)  \n",
    "graph = graphviz.Source(dot_data)  \n",
    "graph \n"
   ]
  },
  {
   "cell_type": "code",
   "execution_count": 8,
   "metadata": {
    "collapsed": false
   },
   "outputs": [
    {
     "name": "stdout",
     "output_type": "stream",
     "text": [
      "The below observations are belong to the left subnode:\n",
      "(array([0, 1, 2, 3, 5, 6, 7, 8], dtype=int64),)\n",
      "\n",
      "The classfication of these observations are:\n",
      "[0 1 0 1 0 0 0 1]\n"
     ]
    }
   ],
   "source": [
    "# First Decision Tree use X1<= 2.1592 as split criteria. gini is calculated as 1-p^2-q^2. So the gini for root is\n",
    "# 1-0.5^2-0.5^2=0.5(p and q are the success and failure ratio and in this case are both 0.5 since we have balanced dataset)\n",
    "# the initial weight for all samples are 1/n = 0.1 (n=10), so root value = [0.5,0.5]\n",
    "# Now let's look at the subnodes after the split. Firstly Let's check the left subnode with gini=0.4687\n",
    "print 'The below observations are belong to the left subnode:'\n",
    "print np.where(X[:,1]<=2.1592)\n",
    "print\n",
    "print 'The classfication of these observations are:'\n",
    "print y[X[:,1]<=2.1592]\n",
    "# As we can see below, there are 8 observations in this subnode; There are 5 observations are with class 0 and\n",
    "# 3 observations are with class 1 so the weight value = [0.5,0.3] indicating 3 observations got misclassified. "
   ]
  },
  {
   "cell_type": "code",
   "execution_count": 9,
   "metadata": {
    "collapsed": false
   },
   "outputs": [
    {
     "name": "stdout",
     "output_type": "stream",
     "text": [
      "The below observations are belong to the right subnode:\n",
      "(array([4, 9], dtype=int64),)\n",
      "\n",
      "The classification of these observations are:\n",
      "[1 1]\n"
     ]
    }
   ],
   "source": [
    "# Next Let's look at the right subnode.\n",
    "print 'The below observations are belong to the right subnode:'\n",
    "print np.where(~(X[:,1]<=2.1592))\n",
    "print\n",
    "print 'The classification of these observations are:'\n",
    "print y[X[:,1]>2.1592]\n",
    "# There are 2 observations in this subnonde; both of them are labeled class 1. The weight value = [0.0,0.2]"
   ]
  },
  {
   "cell_type": "code",
   "execution_count": 10,
   "metadata": {
    "collapsed": false
   },
   "outputs": [
    {
     "name": "stdout",
     "output_type": "stream",
     "text": [
      "the misclassified observations are:\n",
      "[1, 3, 8]\n",
      "the weight of these observations are:\n",
      "[0.1, 0.1, 0.1]\n",
      "The first error term err0 is: 0.3\n",
      "\n",
      "The first alpha term alpla0 is: 0.847297860387\n"
     ]
    }
   ],
   "source": [
    "# the error term of the first decision tree is\n",
    "print 'the misclassified observations are:'\n",
    "print [1,3,8]\n",
    "print 'the weight of these observations are:'\n",
    "print [0.1,0.1,0.1]\n",
    "misclassified = np.array([0.1,0.1,0.1])\n",
    "err0 = misclassified.sum()/weight0.sum()\n",
    "print 'The first error term err0 is:', err0\n",
    "print\n",
    "alpha0 = np.log((1-err0)/err0)\n",
    "print 'The first alpha term alpla0 is:',alpha0\n"
   ]
  },
  {
   "cell_type": "code",
   "execution_count": 11,
   "metadata": {
    "collapsed": false
   },
   "outputs": [
    {
     "name": "stdout",
     "output_type": "stream",
     "text": [
      "The learner weight of first Decision Tree is: 0.847297860387\n",
      "The error of first Decision Tree is: 0.3\n"
     ]
    }
   ],
   "source": [
    "# We can also cross verify the alpha0 value using method estimators_weight_\n",
    "print 'The learner weight of first Decision Tree is:', bdt.estimator_weights_[0]\n",
    "print 'The error of first Decision Tree is:', bdt.estimator_errors_[0]"
   ]
  },
  {
   "cell_type": "code",
   "execution_count": 12,
   "metadata": {
    "collapsed": false
   },
   "outputs": [
    {
     "name": "stdout",
     "output_type": "stream",
     "text": [
      "The sample weight after first round is:\n",
      "[ 0.07142857  0.16666667  0.07142857  0.16666667  0.07142857  0.07142857\n",
      "  0.07142857  0.07142857  0.16666667  0.07142857]\n"
     ]
    }
   ],
   "source": [
    "# Now We need to update and renomalize the weight of all the observations, \n",
    "# Misclassified observations will be boosted in weights. \n",
    "print 'The sample weight after first round is:'\n",
    "weight1 = np.copy(weight0)\n",
    "weight1[[1,3,8]]=weight0[1]*np.exp(alpha0)\n",
    "weight1 = weight1/weight1.sum()\n",
    "print weight1\n",
    "# It can be seen that observation 1,3,8 has been boosted in weights."
   ]
  },
  {
   "cell_type": "code",
   "execution_count": 13,
   "metadata": {
    "collapsed": false
   },
   "outputs": [
    {
     "name": "stdout",
     "output_type": "stream",
     "text": [
      "The first stage decision function is:\n",
      "[-1. -1. -1. -1.  1. -1. -1. -1. -1.  1.]\n",
      "The first predict is:\n",
      "[0 0 0 0 1 0 0 0 0 1]\n",
      "The first predict probability is:\n",
      "[[ 0.5621765   0.4378235 ]\n",
      " [ 0.5621765   0.4378235 ]\n",
      " [ 0.5621765   0.4378235 ]\n",
      " [ 0.5621765   0.4378235 ]\n",
      " [ 0.26894142  0.73105858]\n",
      " [ 0.5621765   0.4378235 ]\n",
      " [ 0.5621765   0.4378235 ]\n",
      " [ 0.5621765   0.4378235 ]\n",
      " [ 0.5621765   0.4378235 ]\n",
      " [ 0.26894142  0.73105858]]\n"
     ]
    }
   ],
   "source": [
    "# The first stage decision function\n",
    "print 'The first stage decision function is:'\n",
    "for item in bdt.staged_decision_function(X):\n",
    "    print item\n",
    "    break\n",
    "# The first predict\n",
    "print 'The first predict is:'\n",
    "for item in bdt.staged_predict(X):\n",
    "    print item\n",
    "    predict0=item\n",
    "    break\n",
    "# The first predict probability\n",
    "print 'The first predict probability is:'\n",
    "for item in bdt.staged_predict_proba(X):\n",
    "    print item\n",
    "    break"
   ]
  },
  {
   "cell_type": "code",
   "execution_count": 14,
   "metadata": {
    "collapsed": false
   },
   "outputs": [
    {
     "data": {
      "image/svg+xml": [
       "<?xml version=\"1.0\" encoding=\"UTF-8\" standalone=\"no\"?>\r\n",
       "<!DOCTYPE svg PUBLIC \"-//W3C//DTD SVG 1.1//EN\"\r\n",
       " \"http://www.w3.org/Graphics/SVG/1.1/DTD/svg11.dtd\">\r\n",
       "<!-- Generated by graphviz version 2.38.0 (20140413.2041)\r\n",
       " -->\r\n",
       "<!-- Title: Tree Pages: 1 -->\r\n",
       "<svg width=\"366pt\" height=\"161pt\"\r\n",
       " viewBox=\"0.00 0.00 366.00 161.00\" xmlns=\"http://www.w3.org/2000/svg\" xmlns:xlink=\"http://www.w3.org/1999/xlink\">\r\n",
       "<g id=\"graph0\" class=\"graph\" transform=\"scale(1 1) rotate(0) translate(4 157)\">\r\n",
       "<title>Tree</title>\r\n",
       "<polygon fill=\"white\" stroke=\"none\" points=\"-4,4 -4,-157 362,-157 362,4 -4,4\"/>\r\n",
       "<!-- 0 -->\r\n",
       "<g id=\"node1\" class=\"node\"><title>0</title>\r\n",
       "<path fill=\"#399de5\" fill-opacity=\"0.443137\" stroke=\"black\" d=\"M252,-153C252,-153 106,-153 106,-153 100,-153 94,-147 94,-141 94,-141 94,-101 94,-101 94,-95 100,-89 106,-89 106,-89 252,-89 252,-89 258,-89 264,-95 264,-101 264,-101 264,-141 264,-141 264,-147 258,-153 252,-153\"/>\r\n",
       "<text text-anchor=\"start\" x=\"140\" y=\"-138.8\" font-family=\"Helvetica,sans-Serif\" font-size=\"14.00\">X</text>\r\n",
       "<text text-anchor=\"start\" x=\"150\" y=\"-138.8\" font-family=\"Helvetica,sans-Serif\" baseline-shift=\"sub\" font-size=\"14.00\">0</text>\r\n",
       "<text text-anchor=\"start\" x=\"157\" y=\"-138.8\" font-family=\"Helvetica,sans-Serif\" font-size=\"14.00\"> ≤ 3.7253</text>\r\n",
       "<text text-anchor=\"start\" x=\"137.5\" y=\"-124.8\" font-family=\"Helvetica,sans-Serif\" font-size=\"14.00\">gini = 0.4592</text>\r\n",
       "<text text-anchor=\"start\" x=\"135.5\" y=\"-110.8\" font-family=\"Helvetica,sans-Serif\" font-size=\"14.00\">samples = 10</text>\r\n",
       "<text text-anchor=\"start\" x=\"102\" y=\"-96.8\" font-family=\"Helvetica,sans-Serif\" font-size=\"14.00\">value = [0.3571, 0.6429]</text>\r\n",
       "</g>\r\n",
       "<!-- 1 -->\r\n",
       "<g id=\"node2\" class=\"node\"><title>1</title>\r\n",
       "<path fill=\"#399de5\" fill-opacity=\"0.749020\" stroke=\"black\" d=\"M158,-53C158,-53 12,-53 12,-53 6,-53 0,-47 0,-41 0,-41 0,-12 0,-12 0,-6 6,-0 12,-0 12,-0 158,-0 158,-0 164,-0 170,-6 170,-12 170,-12 170,-41 170,-41 170,-47 164,-53 158,-53\"/>\r\n",
       "<text text-anchor=\"start\" x=\"51.5\" y=\"-37.8\" font-family=\"Helvetica,sans-Serif\" font-size=\"14.00\">gini = 0.32</text>\r\n",
       "<text text-anchor=\"start\" x=\"45.5\" y=\"-22.8\" font-family=\"Helvetica,sans-Serif\" font-size=\"14.00\">samples = 6</text>\r\n",
       "<text text-anchor=\"start\" x=\"8\" y=\"-7.8\" font-family=\"Helvetica,sans-Serif\" font-size=\"14.00\">value = [0.1429, 0.5714]</text>\r\n",
       "</g>\r\n",
       "<!-- 0&#45;&gt;1 -->\r\n",
       "<g id=\"edge1\" class=\"edge\"><title>0&#45;&gt;1</title>\r\n",
       "<path fill=\"none\" stroke=\"black\" d=\"M147.438,-88.9415C138.095,-79.7477 127.836,-69.6528 118.382,-60.3497\"/>\r\n",
       "<polygon fill=\"black\" stroke=\"black\" points=\"120.588,-57.6101 111.006,-53.0908 115.679,-62.5995 120.588,-57.6101\"/>\r\n",
       "<text text-anchor=\"middle\" x=\"111.207\" y=\"-74.39\" font-family=\"Helvetica,sans-Serif\" font-size=\"14.00\">True</text>\r\n",
       "</g>\r\n",
       "<!-- 2 -->\r\n",
       "<g id=\"node3\" class=\"node\"><title>2</title>\r\n",
       "<path fill=\"#e58139\" fill-opacity=\"0.666667\" stroke=\"black\" d=\"M346,-53C346,-53 200,-53 200,-53 194,-53 188,-47 188,-41 188,-41 188,-12 188,-12 188,-6 194,-0 200,-0 200,-0 346,-0 346,-0 352,-0 358,-6 358,-12 358,-12 358,-41 358,-41 358,-47 352,-53 346,-53\"/>\r\n",
       "<text text-anchor=\"start\" x=\"235.5\" y=\"-37.8\" font-family=\"Helvetica,sans-Serif\" font-size=\"14.00\">gini = 0.375</text>\r\n",
       "<text text-anchor=\"start\" x=\"233.5\" y=\"-22.8\" font-family=\"Helvetica,sans-Serif\" font-size=\"14.00\">samples = 4</text>\r\n",
       "<text text-anchor=\"start\" x=\"196\" y=\"-7.8\" font-family=\"Helvetica,sans-Serif\" font-size=\"14.00\">value = [0.2143, 0.0714]</text>\r\n",
       "</g>\r\n",
       "<!-- 0&#45;&gt;2 -->\r\n",
       "<g id=\"edge2\" class=\"edge\"><title>0&#45;&gt;2</title>\r\n",
       "<path fill=\"none\" stroke=\"black\" d=\"M210.562,-88.9415C219.905,-79.7477 230.164,-69.6528 239.618,-60.3497\"/>\r\n",
       "<polygon fill=\"black\" stroke=\"black\" points=\"242.321,-62.5995 246.994,-53.0908 237.412,-57.6101 242.321,-62.5995\"/>\r\n",
       "<text text-anchor=\"middle\" x=\"246.793\" y=\"-74.39\" font-family=\"Helvetica,sans-Serif\" font-size=\"14.00\">False</text>\r\n",
       "</g>\r\n",
       "</g>\r\n",
       "</svg>\r\n"
      ],
      "text/plain": [
       "<graphviz.files.Source at 0x4b30f28>"
      ]
     },
     "execution_count": 14,
     "metadata": {},
     "output_type": "execute_result"
    }
   ],
   "source": [
    "# Next, the second round\n",
    "dot_data = tree.export_graphviz(bdt.estimators_[1], out_file=None, filled=True, rounded=True, special_characters=True)  \n",
    "graph = graphviz.Source(dot_data)  \n",
    "graph "
   ]
  },
  {
   "cell_type": "code",
   "execution_count": 15,
   "metadata": {
    "collapsed": false
   },
   "outputs": [
    {
     "name": "stdout",
     "output_type": "stream",
     "text": [
      "Summed class0 weights: 0.357142857143\n",
      "Summed class1 weights: 0.642857142857\n"
     ]
    }
   ],
   "source": [
    "# First Second Tree use X0<= 3.7253 as split criteria.\n",
    "# Look at root weight value\n",
    "print 'Summed class0 weights:',weight1[y==0].sum()\n",
    "print 'Summed class1 weights:',weight1[y==1].sum()"
   ]
  },
  {
   "cell_type": "code",
   "execution_count": 16,
   "metadata": {
    "collapsed": false
   },
   "outputs": [
    {
     "name": "stdout",
     "output_type": "stream",
     "text": [
      "2nd round root gini is: 0.45915918\n"
     ]
    }
   ],
   "source": [
    "# Root gini can be calculated:\n",
    "print '2nd round root gini is:', 1-0.3571**2-0.6429**2"
   ]
  },
  {
   "cell_type": "code",
   "execution_count": 17,
   "metadata": {
    "collapsed": false
   },
   "outputs": [
    {
     "name": "stdout",
     "output_type": "stream",
     "text": [
      "The below observations are belong to the left subnode:\n",
      "(array([0, 1, 2, 3, 8, 9], dtype=int64),)\n",
      "\n",
      "The classfication of these observations are:\n",
      "[0 1 0 1 1 1]\n",
      "Weight sum for class0 is: 0.142857142857\n",
      "Weight sum for class1 is: 0.571428571429\n"
     ]
    }
   ],
   "source": [
    "# Look at left subnode\n",
    "print 'The below observations are belong to the left subnode:'\n",
    "print np.where(X[:,0]<=3.7253)\n",
    "print\n",
    "print 'The classfication of these observations are:'\n",
    "print y[X[:,0]<=3.7253]\n",
    "# As we can see below, there are 6 observations in this subnode; There are 2 observations are with class 0 and\n",
    "# 4 observations are with class 1 so we can calculate the weight value\n",
    "print 'Weight sum for class0 is:', weight1[(X[:,0]<=3.7253)&(y==0)].sum()\n",
    "print 'Weight sum for class1 is:', weight1[(X[:,0]<=3.7253)&(y==1)].sum()\n",
    "# Subnode Gini can be calculated with nomalized weight sums"
   ]
  },
  {
   "cell_type": "code",
   "execution_count": 18,
   "metadata": {
    "collapsed": false
   },
   "outputs": [
    {
     "name": "stdout",
     "output_type": "stream",
     "text": [
      "The below observations are belong to the right subnode:\n",
      "(array([4, 5, 6, 7], dtype=int64),)\n",
      "\n",
      "The classfication of these observations are:\n",
      "[1 0 0 0]\n"
     ]
    }
   ],
   "source": [
    "# Look at Right subnode\n",
    "print 'The below observations are belong to the right subnode:'\n",
    "print np.where(X[:,0]>3.7253)\n",
    "print\n",
    "print 'The classfication of these observations are:'\n",
    "print y[X[:,0]>3.7253]"
   ]
  },
  {
   "cell_type": "code",
   "execution_count": 19,
   "metadata": {
    "collapsed": false
   },
   "outputs": [
    {
     "name": "stdout",
     "output_type": "stream",
     "text": [
      "the misclassified observations are:\n",
      "[0, 2, 4]\n",
      "the weight of these observations are:\n",
      "[ 0.07142857  0.07142857  0.07142857]\n",
      "The error term err1 is: 0.214285714286\n",
      "\n",
      "The alpha term alpla1 is: 1.29928298413\n"
     ]
    }
   ],
   "source": [
    "# the error term of the second decision tree is\n",
    "print 'the misclassified observations are:'\n",
    "print [0,2,4]\n",
    "print 'the weight of these observations are:'\n",
    "print weight1[[0,2,4]]\n",
    "misclassified = weight1[[0,2,4]]\n",
    "err1 = misclassified.sum()/weight1.sum()\n",
    "print 'The error term err1 is:', err1\n",
    "print\n",
    "alpha1 = np.log((1-err1)/err1)\n",
    "print 'The alpha term alpla1 is:',alpha1\n"
   ]
  },
  {
   "cell_type": "code",
   "execution_count": 20,
   "metadata": {
    "collapsed": false
   },
   "outputs": [
    {
     "name": "stdout",
     "output_type": "stream",
     "text": [
      "The learner weight of second Decision Tree is: 1.29928298413\n",
      "The error of second Decision Tree is: 0.214285714286\n"
     ]
    }
   ],
   "source": [
    "# We can also cross verify the alpha1 value using method estimators_weight_\n",
    "print 'The learner weight of second Decision Tree is:', bdt.estimator_weights_[1]\n",
    "print 'The error of second Decision Tree is:', bdt.estimator_errors_[1]"
   ]
  },
  {
   "cell_type": "code",
   "execution_count": 21,
   "metadata": {
    "collapsed": false
   },
   "outputs": [
    {
     "name": "stdout",
     "output_type": "stream",
     "text": [
      "The sample weight after second round is:\n",
      "[ 0.16666667  0.10606061  0.16666667  0.10606061  0.16666667  0.04545455\n",
      "  0.04545455  0.04545455  0.10606061  0.04545455]\n"
     ]
    }
   ],
   "source": [
    "# Now We need to update and renomalize the weight of all the observations, \n",
    "# Misclassified observations will be boosted in weights. \n",
    "print 'The sample weight after second round is:'\n",
    "weight2 = np.copy(weight1)\n",
    "weight2[[0,2,4]]=weight1[0]*np.exp(alpha1)\n",
    "weight2 = weight2/weight2.sum()\n",
    "print weight2\n",
    "# It can be seen that observation 0,2,4 has been boosted in weights."
   ]
  },
  {
   "cell_type": "code",
   "execution_count": 22,
   "metadata": {
    "collapsed": false
   },
   "outputs": [
    {
     "name": "stdout",
     "output_type": "stream",
     "text": [
      "The second stage decision function is:\n",
      "[ 0.21056049  0.21056049  0.21056049  0.21056049 -0.21056049 -1.         -1.\n",
      " -1.          0.21056049  1.        ]\n",
      "The second predict is:\n",
      "[1 1 1 1 0 0 0 0 1 1]\n",
      "The second predict probability is:\n",
      "[[ 0.43426073  0.56573927]\n",
      " [ 0.43426073  0.56573927]\n",
      " [ 0.43426073  0.56573927]\n",
      " [ 0.43426073  0.56573927]\n",
      " [ 0.47699634  0.52300366]\n",
      " [ 0.59900478  0.40099522]\n",
      " [ 0.59900478  0.40099522]\n",
      " [ 0.59900478  0.40099522]\n",
      " [ 0.43426073  0.56573927]\n",
      " [ 0.319105    0.680895  ]]\n"
     ]
    }
   ],
   "source": [
    "# The second stage decision function\n",
    "print 'The second stage decision function is:'\n",
    "for idx,item in enumerate(bdt.staged_decision_function(X)):\n",
    "    if idx==1:\n",
    "        print item\n",
    "        break\n",
    "# The second predict\n",
    "print 'The second predict is:'\n",
    "for idx,item in enumerate(bdt.staged_predict(X)):\n",
    "    if idx==1:\n",
    "        print item\n",
    "        predict1=item\n",
    "        break\n",
    "# The second predict probability\n",
    "print 'The second predict probability is:'\n",
    "for idx,item in enumerate(bdt.staged_predict_proba(X)):\n",
    "    if idx==1:\n",
    "        print item\n",
    "        break"
   ]
  },
  {
   "cell_type": "code",
   "execution_count": 23,
   "metadata": {
    "collapsed": false
   },
   "outputs": [],
   "source": [
    "predict0[predict0==0]=-1"
   ]
  },
  {
   "cell_type": "code",
   "execution_count": 24,
   "metadata": {
    "collapsed": false
   },
   "outputs": [],
   "source": [
    "predict1[predict1==0]=-1"
   ]
  },
  {
   "cell_type": "code",
   "execution_count": 25,
   "metadata": {
    "collapsed": false
   },
   "outputs": [
    {
     "data": {
      "text/plain": [
       "DecisionTreeClassifier(class_weight=None, criterion='gini', max_depth=1,\n",
       "            max_features=None, max_leaf_nodes=None,\n",
       "            min_impurity_split=1e-07, min_samples_leaf=1,\n",
       "            min_samples_split=2, min_weight_fraction_leaf=0.0,\n",
       "            presort=False, random_state=None, splitter='best')"
      ]
     },
     "execution_count": 25,
     "metadata": {},
     "output_type": "execute_result"
    }
   ],
   "source": [
    "clf = DecisionTreeClassifier(max_depth=1)\n",
    "clf.fit(X,y)"
   ]
  },
  {
   "cell_type": "code",
   "execution_count": 26,
   "metadata": {
    "collapsed": false
   },
   "outputs": [
    {
     "data": {
      "image/svg+xml": [
       "<?xml version=\"1.0\" encoding=\"UTF-8\" standalone=\"no\"?>\r\n",
       "<!DOCTYPE svg PUBLIC \"-//W3C//DTD SVG 1.1//EN\"\r\n",
       " \"http://www.w3.org/Graphics/SVG/1.1/DTD/svg11.dtd\">\r\n",
       "<!-- Generated by graphviz version 2.38.0 (20140413.2041)\r\n",
       " -->\r\n",
       "<!-- Title: Tree Pages: 1 -->\r\n",
       "<svg width=\"222pt\" height=\"161pt\"\r\n",
       " viewBox=\"0.00 0.00 222.00 161.00\" xmlns=\"http://www.w3.org/2000/svg\" xmlns:xlink=\"http://www.w3.org/1999/xlink\">\r\n",
       "<g id=\"graph0\" class=\"graph\" transform=\"scale(1 1) rotate(0) translate(4 157)\">\r\n",
       "<title>Tree</title>\r\n",
       "<polygon fill=\"white\" stroke=\"none\" points=\"-4,4 -4,-157 218,-157 218,4 -4,4\"/>\r\n",
       "<!-- 0 -->\r\n",
       "<g id=\"node1\" class=\"node\"><title>0</title>\r\n",
       "<path fill=\"none\" stroke=\"black\" d=\"M147,-153C147,-153 68,-153 68,-153 62,-153 56,-147 56,-141 56,-141 56,-101 56,-101 56,-95 62,-89 68,-89 68,-89 147,-89 147,-89 153,-89 159,-95 159,-101 159,-101 159,-141 159,-141 159,-147 153,-153 147,-153\"/>\r\n",
       "<text text-anchor=\"start\" x=\"68.5\" y=\"-138.8\" font-family=\"Helvetica,sans-Serif\" font-size=\"14.00\">X</text>\r\n",
       "<text text-anchor=\"start\" x=\"78.5\" y=\"-138.8\" font-family=\"Helvetica,sans-Serif\" baseline-shift=\"sub\" font-size=\"14.00\">1</text>\r\n",
       "<text text-anchor=\"start\" x=\"85.5\" y=\"-138.8\" font-family=\"Helvetica,sans-Serif\" font-size=\"14.00\"> ≤ 2.1592</text>\r\n",
       "<text text-anchor=\"start\" x=\"78.5\" y=\"-124.8\" font-family=\"Helvetica,sans-Serif\" font-size=\"14.00\">gini = 0.5</text>\r\n",
       "<text text-anchor=\"start\" x=\"64\" y=\"-110.8\" font-family=\"Helvetica,sans-Serif\" font-size=\"14.00\">samples = 10</text>\r\n",
       "<text text-anchor=\"start\" x=\"67\" y=\"-96.8\" font-family=\"Helvetica,sans-Serif\" font-size=\"14.00\">value = [5, 5]</text>\r\n",
       "</g>\r\n",
       "<!-- 1 -->\r\n",
       "<g id=\"node2\" class=\"node\"><title>1</title>\r\n",
       "<path fill=\"#e58139\" fill-opacity=\"0.400000\" stroke=\"black\" d=\"M87,-53C87,-53 12,-53 12,-53 6,-53 0,-47 0,-41 0,-41 0,-12 0,-12 0,-6 6,-0 12,-0 12,-0 87,-0 87,-0 93,-0 99,-6 99,-12 99,-12 99,-41 99,-41 99,-47 93,-53 87,-53\"/>\r\n",
       "<text text-anchor=\"start\" x=\"8\" y=\"-37.8\" font-family=\"Helvetica,sans-Serif\" font-size=\"14.00\">gini = 0.4688</text>\r\n",
       "<text text-anchor=\"start\" x=\"10\" y=\"-22.8\" font-family=\"Helvetica,sans-Serif\" font-size=\"14.00\">samples = 8</text>\r\n",
       "<text text-anchor=\"start\" x=\"9\" y=\"-7.8\" font-family=\"Helvetica,sans-Serif\" font-size=\"14.00\">value = [5, 3]</text>\r\n",
       "</g>\r\n",
       "<!-- 0&#45;&gt;1 -->\r\n",
       "<g id=\"edge1\" class=\"edge\"><title>0&#45;&gt;1</title>\r\n",
       "<path fill=\"none\" stroke=\"black\" d=\"M88.0255,-88.9415C82.5461,-80.2028 76.5563,-70.6501 70.9675,-61.737\"/>\r\n",
       "<polygon fill=\"black\" stroke=\"black\" points=\"73.8238,-59.7038 65.5461,-53.0908 67.8932,-63.4224 73.8238,-59.7038\"/>\r\n",
       "<text text-anchor=\"middle\" x=\"59.9601\" y=\"-73.7588\" font-family=\"Helvetica,sans-Serif\" font-size=\"14.00\">True</text>\r\n",
       "</g>\r\n",
       "<!-- 2 -->\r\n",
       "<g id=\"node3\" class=\"node\"><title>2</title>\r\n",
       "<path fill=\"#399de5\" stroke=\"black\" d=\"M202,-53C202,-53 129,-53 129,-53 123,-53 117,-47 117,-41 117,-41 117,-12 117,-12 117,-6 123,-0 129,-0 129,-0 202,-0 202,-0 208,-0 214,-6 214,-12 214,-12 214,-41 214,-41 214,-47 208,-53 202,-53\"/>\r\n",
       "<text text-anchor=\"start\" x=\"136.5\" y=\"-37.8\" font-family=\"Helvetica,sans-Serif\" font-size=\"14.00\">gini = 0.0</text>\r\n",
       "<text text-anchor=\"start\" x=\"126\" y=\"-22.8\" font-family=\"Helvetica,sans-Serif\" font-size=\"14.00\">samples = 2</text>\r\n",
       "<text text-anchor=\"start\" x=\"125\" y=\"-7.8\" font-family=\"Helvetica,sans-Serif\" font-size=\"14.00\">value = [0, 2]</text>\r\n",
       "</g>\r\n",
       "<!-- 0&#45;&gt;2 -->\r\n",
       "<g id=\"edge2\" class=\"edge\"><title>0&#45;&gt;2</title>\r\n",
       "<path fill=\"none\" stroke=\"black\" d=\"M126.975,-88.9415C132.454,-80.2028 138.444,-70.6501 144.033,-61.737\"/>\r\n",
       "<polygon fill=\"black\" stroke=\"black\" points=\"147.107,-63.4224 149.454,-53.0908 141.176,-59.7038 147.107,-63.4224\"/>\r\n",
       "<text text-anchor=\"middle\" x=\"155.04\" y=\"-73.7588\" font-family=\"Helvetica,sans-Serif\" font-size=\"14.00\">False</text>\r\n",
       "</g>\r\n",
       "</g>\r\n",
       "</svg>\r\n"
      ],
      "text/plain": [
       "<graphviz.files.Source at 0x4bdf7f0>"
      ]
     },
     "execution_count": 26,
     "metadata": {},
     "output_type": "execute_result"
    }
   ],
   "source": [
    "dot_data = tree.export_graphviz(clf, out_file=None,  \n",
    "                         filled=True, rounded=True,  \n",
    "                         special_characters=True)  \n",
    "graph = graphviz.Source(dot_data)  \n",
    "graph "
   ]
  },
  {
   "cell_type": "code",
   "execution_count": 27,
   "metadata": {
    "collapsed": false
   },
   "outputs": [
    {
     "data": {
      "text/plain": [
       "array([0, 0, 0, 0, 1, 0, 0, 0, 0, 1])"
      ]
     },
     "execution_count": 27,
     "metadata": {},
     "output_type": "execute_result"
    }
   ],
   "source": [
    "clf.predict(X)"
   ]
  },
  {
   "cell_type": "code",
   "execution_count": 28,
   "metadata": {
    "collapsed": false
   },
   "outputs": [
    {
     "data": {
      "text/plain": [
       "array([[ 0.52956116,  0.3177367 ],\n",
       "       [ 0.52956116,  0.3177367 ],\n",
       "       [ 0.52956116,  0.3177367 ],\n",
       "       [ 0.52956116,  0.3177367 ],\n",
       "       [ 0.        ,  0.84729786],\n",
       "       [ 0.52956116,  0.3177367 ],\n",
       "       [ 0.52956116,  0.3177367 ],\n",
       "       [ 0.52956116,  0.3177367 ],\n",
       "       [ 0.52956116,  0.3177367 ],\n",
       "       [ 0.        ,  0.84729786]])"
      ]
     },
     "execution_count": 28,
     "metadata": {},
     "output_type": "execute_result"
    }
   ],
   "source": [
    "clf.predict_proba(X)*alpha0"
   ]
  },
  {
   "cell_type": "code",
   "execution_count": 34,
   "metadata": {
    "collapsed": false
   },
   "outputs": [
    {
     "name": "stdout",
     "output_type": "stream",
     "text": [
      "[[ 0.50473227  0.49526773]\n",
      " [ 0.37637722  0.62362278]\n",
      " [ 0.50932407  0.49067593]\n",
      " [ 0.37637722  0.62362278]\n",
      " [ 0.43413744  0.56586256]\n",
      " [ 0.63462844  0.36537156]\n",
      " [ 0.53039748  0.46960252]\n",
      " [ 0.63462844  0.36537156]\n",
      " [ 0.40050132  0.59949868]\n",
      " [ 0.30424128  0.69575872]]\n",
      "\n",
      "[[ 1.65654196  1.6409375 ]\n",
      " [ 1.45699664  1.86567474]\n",
      " [ 1.66416595  1.63341992]\n",
      " [ 1.45699664  1.86567474]\n",
      " [ 1.54363102  1.76096606]\n",
      " [ 1.88632112  1.44104935]\n",
      " [ 1.69960773  1.59935836]\n",
      " [ 1.88632112  1.44104935]\n",
      " [ 1.49257276  1.82120557]\n",
      " [ 1.3555961   2.0052299 ]]\n",
      "\n",
      "[[ 3.29747946]\n",
      " [ 3.32267138]\n",
      " [ 3.29758588]\n",
      " [ 3.32267138]\n",
      " [ 3.30459708]\n",
      " [ 3.32737047]\n",
      " [ 3.29896609]\n",
      " [ 3.32737047]\n",
      " [ 3.31377833]\n",
      " [ 3.360826  ]]\n",
      "\n"
     ]
    }
   ],
   "source": [
    "n_classes=bdt.n_classes_\n",
    "proba = sum(estimator.predict_proba(X) * w\n",
    "                        for estimator, w in zip(bdt.estimators_,\n",
    "                                                bdt.estimator_weights_))\n",
    "\n",
    "proba /= bdt.estimator_weights_.sum()\n",
    "print proba\n",
    "print\n",
    "proba = np.exp((1. / (n_classes - 1)) * proba)\n",
    "print proba\n",
    "print\n",
    "normalizer = proba.sum(axis=1)[:, np.newaxis]\n",
    "print normalizer\n",
    "print\n"
   ]
  },
  {
   "cell_type": "code",
   "execution_count": 35,
   "metadata": {
    "collapsed": false
   },
   "outputs": [
    {
     "data": {
      "text/plain": [
       "array([ 3.29747946,  3.32267138,  3.29758588,  3.32267138,  3.30459708,\n",
       "        3.32737047,  3.29896609,  3.32737047,  3.31377833,  3.360826  ])"
      ]
     },
     "execution_count": 35,
     "metadata": {},
     "output_type": "execute_result"
    }
   ],
   "source": [
    "proba.sum(axis=1)"
   ]
  },
  {
   "cell_type": "code",
   "execution_count": 33,
   "metadata": {
    "collapsed": false
   },
   "outputs": [
    {
     "data": {
      "text/plain": [
       "array([[ 0.50236612,  0.49763388],\n",
       "       [ 0.43850158,  0.56149842],\n",
       "       [ 0.5046619 ,  0.4953381 ],\n",
       "       [ 0.43850158,  0.56149842],\n",
       "       [ 0.46711626,  0.53288374],\n",
       "       [ 0.56691046,  0.43308954],\n",
       "       [ 0.51519406,  0.48480594],\n",
       "       [ 0.56691046,  0.43308954],\n",
       "       [ 0.45041418,  0.54958582],\n",
       "       [ 0.40335206,  0.59664794]])"
      ]
     },
     "execution_count": 33,
     "metadata": {},
     "output_type": "execute_result"
    }
   ],
   "source": [
    "bdt.predict_proba(X)"
   ]
  },
  {
   "cell_type": "code",
   "execution_count": null,
   "metadata": {
    "collapsed": true
   },
   "outputs": [],
   "source": [
    "normalizer[normalizer == 0.0] = 1.0\n",
    "proba /= normalizer\n",
    "print proba"
   ]
  },
  {
   "cell_type": "code",
   "execution_count": 44,
   "metadata": {
    "collapsed": true
   },
   "outputs": [],
   "source": [
    "norm = bdt.estimator_weights_[0]\n",
    "proba = bdt.estimators_[0].predict_proba(X) * norm\n",
    "real_proba = np.exp((1. / (n_classes - 1)) * (proba / norm))\n",
    "normalizer = real_proba.sum(axis=1)[:, np.newaxis]\n"
   ]
  },
  {
   "cell_type": "code",
   "execution_count": 46,
   "metadata": {
    "collapsed": false
   },
   "outputs": [],
   "source": [
    "normalizer[normalizer == 0.0] = 1.0\n",
    "real_proba /= normalizer"
   ]
  },
  {
   "cell_type": "code",
   "execution_count": 39,
   "metadata": {
    "collapsed": false
   },
   "outputs": [
    {
     "data": {
      "text/plain": [
       "array([[ 0.52956116,  0.3177367 ],\n",
       "       [ 0.52956116,  0.3177367 ],\n",
       "       [ 0.52956116,  0.3177367 ],\n",
       "       [ 0.52956116,  0.3177367 ],\n",
       "       [ 0.        ,  0.84729786],\n",
       "       [ 0.52956116,  0.3177367 ],\n",
       "       [ 0.52956116,  0.3177367 ],\n",
       "       [ 0.52956116,  0.3177367 ],\n",
       "       [ 0.52956116,  0.3177367 ],\n",
       "       [ 0.        ,  0.84729786]])"
      ]
     },
     "execution_count": 39,
     "metadata": {},
     "output_type": "execute_result"
    }
   ],
   "source": [
    "bdt.estimators_[0].predict_proba(X)*norm"
   ]
  },
  {
   "cell_type": "code",
   "execution_count": 53,
   "metadata": {
    "collapsed": false
   },
   "outputs": [
    {
     "data": {
      "text/plain": [
       "array([0, 0, 0, 0, 1, 0, 0, 0, 0, 1])"
      ]
     },
     "execution_count": 53,
     "metadata": {},
     "output_type": "execute_result"
    }
   ],
   "source": [
    "bdt.estimators_[0].predict(X)"
   ]
  },
  {
   "cell_type": "code",
   "execution_count": 58,
   "metadata": {
    "collapsed": false
   },
   "outputs": [],
   "source": [
    "temp = (bdt.estimators_[0].predict(X)==bdt.classes_[:,np.newaxis]).T"
   ]
  },
  {
   "cell_type": "code",
   "execution_count": 57,
   "metadata": {
    "collapsed": false
   },
   "outputs": [
    {
     "data": {
      "text/plain": [
       "array([[0],\n",
       "       [1]])"
      ]
     },
     "execution_count": 57,
     "metadata": {},
     "output_type": "execute_result"
    }
   ],
   "source": [
    "bdt.classes_[:,np.newaxis]"
   ]
  },
  {
   "cell_type": "code",
   "execution_count": 59,
   "metadata": {
    "collapsed": true
   },
   "outputs": [],
   "source": [
    "pred = temp*alpha0"
   ]
  },
  {
   "cell_type": "code",
   "execution_count": 60,
   "metadata": {
    "collapsed": false
   },
   "outputs": [
    {
     "data": {
      "text/plain": [
       "array([[ 0.84729786,  0.        ],\n",
       "       [ 0.84729786,  0.        ],\n",
       "       [ 0.84729786,  0.        ],\n",
       "       [ 0.84729786,  0.        ],\n",
       "       [ 0.        ,  0.84729786],\n",
       "       [ 0.84729786,  0.        ],\n",
       "       [ 0.84729786,  0.        ],\n",
       "       [ 0.84729786,  0.        ],\n",
       "       [ 0.84729786,  0.        ],\n",
       "       [ 0.        ,  0.84729786]])"
      ]
     },
     "execution_count": 60,
     "metadata": {},
     "output_type": "execute_result"
    }
   ],
   "source": [
    "pred"
   ]
  },
  {
   "cell_type": "code",
   "execution_count": 62,
   "metadata": {
    "collapsed": false
   },
   "outputs": [],
   "source": [
    "pred[:,0]*=-1"
   ]
  },
  {
   "cell_type": "code",
   "execution_count": 63,
   "metadata": {
    "collapsed": false
   },
   "outputs": [
    {
     "data": {
      "text/plain": [
       "array([[-0.84729786,  0.        ],\n",
       "       [-0.84729786,  0.        ],\n",
       "       [-0.84729786,  0.        ],\n",
       "       [-0.84729786,  0.        ],\n",
       "       [-0.        ,  0.84729786],\n",
       "       [-0.84729786,  0.        ],\n",
       "       [-0.84729786,  0.        ],\n",
       "       [-0.84729786,  0.        ],\n",
       "       [-0.84729786,  0.        ],\n",
       "       [-0.        ,  0.84729786]])"
      ]
     },
     "execution_count": 63,
     "metadata": {},
     "output_type": "execute_result"
    }
   ],
   "source": [
    "pred"
   ]
  },
  {
   "cell_type": "code",
   "execution_count": null,
   "metadata": {
    "collapsed": true
   },
   "outputs": [],
   "source": [
    "\n",
    "        classes = self.classes_[:, np.newaxis]\n",
    "        pred = None\n",
    "        norm = 0.\n",
    "\n",
    "        for weight, estimator in zip(self.estimator_weights_,\n",
    "                                     self.estimators_):\n",
    "            norm += weight\n",
    "\n",
    "            if self.algorithm == 'SAMME.R':\n",
    "                # The weights are all 1. for SAMME.R\n",
    "                current_pred = _samme_proba(estimator, n_classes, X)\n",
    "            else:  # elif self.algorithm == \"SAMME\":\n",
    "                current_pred = estimator.predict(X)\n",
    "                current_pred = (current_pred == classes).T * weight\n",
    "\n",
    "            if pred is None:\n",
    "                pred = current_pred\n",
    "            else:\n",
    "                pred += current_pred\n",
    "\n",
    "            if n_classes == 2:\n",
    "                tmp_pred = np.copy(pred)\n",
    "                tmp_pred[:, 0] *= -1\n",
    "                yield (tmp_pred / norm).sum(axis=1)\n",
    "            else:\n",
    "                yield pred / norm\n"
   ]
  },
  {
   "cell_type": "code",
   "execution_count": 70,
   "metadata": {
    "collapsed": false
   },
   "outputs": [
    {
     "name": "stdout",
     "output_type": "stream",
     "text": [
      "current norm is:  0.847297860387\n",
      "\n",
      "current pred is:  [0 0 0 0 1 0 0 0 0 1]\n",
      "weighted pred is:  [[ 0.84729786  0.        ]\n",
      " [ 0.84729786  0.        ]\n",
      " [ 0.84729786  0.        ]\n",
      " [ 0.84729786  0.        ]\n",
      " [ 0.          0.84729786]\n",
      " [ 0.84729786  0.        ]\n",
      " [ 0.84729786  0.        ]\n",
      " [ 0.84729786  0.        ]\n",
      " [ 0.84729786  0.        ]\n",
      " [ 0.          0.84729786]]\n",
      "summed pred is:  [[ 0.84729786  0.        ]\n",
      " [ 0.84729786  0.        ]\n",
      " [ 0.84729786  0.        ]\n",
      " [ 0.84729786  0.        ]\n",
      " [ 0.          0.84729786]\n",
      " [ 0.84729786  0.        ]\n",
      " [ 0.84729786  0.        ]\n",
      " [ 0.84729786  0.        ]\n",
      " [ 0.84729786  0.        ]\n",
      " [ 0.          0.84729786]]\n",
      "[-1. -1. -1. -1.  1. -1. -1. -1. -1.  1.]\n",
      "current norm is:  2.14658084452\n",
      "\n",
      "current pred is:  [1 1 1 1 0 0 0 0 1 1]\n",
      "weighted pred is:  [[ 0.          1.29928298]\n",
      " [ 0.          1.29928298]\n",
      " [ 0.          1.29928298]\n",
      " [ 0.          1.29928298]\n",
      " [ 1.29928298  0.        ]\n",
      " [ 1.29928298  0.        ]\n",
      " [ 1.29928298  0.        ]\n",
      " [ 1.29928298  0.        ]\n",
      " [ 0.          1.29928298]\n",
      " [ 0.          1.29928298]]\n",
      "summed pred is:  [[ 0.84729786  1.29928298]\n",
      " [ 0.84729786  1.29928298]\n",
      " [ 0.84729786  1.29928298]\n",
      " [ 0.84729786  1.29928298]\n",
      " [ 1.29928298  0.84729786]\n",
      " [ 2.14658084  0.        ]\n",
      " [ 2.14658084  0.        ]\n",
      " [ 2.14658084  0.        ]\n",
      " [ 0.84729786  1.29928298]\n",
      " [ 0.          2.14658084]]\n",
      "[ 0.21056049  0.21056049  0.21056049  0.21056049 -0.21056049 -1.         -1.\n",
      " -1.          0.21056049  1.        ]\n",
      "current norm is:  3.20518779857\n",
      "\n",
      "current pred is:  [0 0 0 0 1 0 1 0 1 1]\n",
      "weighted pred is:  [[ 1.05860695  0.        ]\n",
      " [ 1.05860695  0.        ]\n",
      " [ 1.05860695  0.        ]\n",
      " [ 1.05860695  0.        ]\n",
      " [ 0.          1.05860695]\n",
      " [ 1.05860695  0.        ]\n",
      " [ 0.          1.05860695]\n",
      " [ 1.05860695  0.        ]\n",
      " [ 0.          1.05860695]\n",
      " [ 0.          1.05860695]]\n",
      "summed pred is:  [[ 1.90590481  1.29928298]\n",
      " [ 1.90590481  1.29928298]\n",
      " [ 1.90590481  1.29928298]\n",
      " [ 1.90590481  1.29928298]\n",
      " [ 1.29928298  1.90590481]\n",
      " [ 3.2051878   0.        ]\n",
      " [ 2.14658084  1.05860695]\n",
      " [ 3.2051878   0.        ]\n",
      " [ 0.84729786  2.35788994]\n",
      " [ 0.          3.2051878 ]]\n",
      "[-0.18926249 -0.18926249 -0.18926249 -0.18926249  0.18926249 -1.\n",
      " -0.33944154 -1.          0.47129597  1.        ]\n",
      "current norm is:  4.24231500359\n",
      "\n",
      "current pred is:  [1 1 0 1 1 1 1 1 1 1]\n",
      "weighted pred is:  [[ 0.          1.03712721]\n",
      " [ 0.          1.03712721]\n",
      " [ 1.03712721  0.        ]\n",
      " [ 0.          1.03712721]\n",
      " [ 0.          1.03712721]\n",
      " [ 0.          1.03712721]\n",
      " [ 0.          1.03712721]\n",
      " [ 0.          1.03712721]\n",
      " [ 0.          1.03712721]\n",
      " [ 0.          1.03712721]]\n",
      "summed pred is:  [[ 1.90590481  2.33641019]\n",
      " [ 1.90590481  2.33641019]\n",
      " [ 2.94303202  1.29928298]\n",
      " [ 1.90590481  2.33641019]\n",
      " [ 1.29928298  2.94303202]\n",
      " [ 3.2051878   1.03712721]\n",
      " [ 2.14658084  2.09573416]\n",
      " [ 3.2051878   1.03712721]\n",
      " [ 0.84729786  3.39501714]\n",
      " [ 0.          4.242315  ]]\n",
      "[ 0.10147888  0.10147888 -0.38746511  0.10147888  0.38746511 -0.51105601\n",
      " -0.0119856  -0.51105601  0.60054929  1.        ]\n",
      "current norm is:  5.50136071526\n",
      "\n",
      "current pred is:  [0 1 1 1 0 0 0 0 0 0]\n",
      "weighted pred is:  [[ 1.25904571  0.        ]\n",
      " [ 0.          1.25904571]\n",
      " [ 0.          1.25904571]\n",
      " [ 0.          1.25904571]\n",
      " [ 1.25904571  0.        ]\n",
      " [ 1.25904571  0.        ]\n",
      " [ 1.25904571  0.        ]\n",
      " [ 1.25904571  0.        ]\n",
      " [ 1.25904571  0.        ]\n",
      " [ 1.25904571  0.        ]]\n",
      "summed pred is:  [[ 3.16495053  2.33641019]\n",
      " [ 1.90590481  3.5954559 ]\n",
      " [ 2.94303202  2.5583287 ]\n",
      " [ 1.90590481  3.5954559 ]\n",
      " [ 2.5583287   2.94303202]\n",
      " [ 4.46423351  1.03712721]\n",
      " [ 3.40562656  2.09573416]\n",
      " [ 4.46423351  1.03712721]\n",
      " [ 2.10634357  3.39501714]\n",
      " [ 1.25904571  4.242315  ]]\n",
      "[-0.15060644  0.30711513 -0.06992876  0.30711513  0.06992876 -0.62295612\n",
      " -0.23810335 -0.62295612  0.23424633  0.54227844]\n"
     ]
    }
   ],
   "source": [
    "classes =  bdt.classes_[:,np.newaxis]\n",
    "pred = None\n",
    "norm = 0\n",
    "\n",
    "for weight, estimator in zip(bdt.estimator_weights_,bdt.estimators_):\n",
    "    norm += weight\n",
    "    print 'current norm is: ',norm\n",
    "    print\n",
    "    current_pred = estimator.predict(X)\n",
    "    print 'current pred is: ',current_pred\n",
    "    current_pred = (current_pred == classes).T * weight\n",
    "    print 'weighted pred is: ', current_pred\n",
    "    \n",
    "    if pred is None:\n",
    "        pred = current_pred\n",
    "    else:\n",
    "        pred += current_pred\n",
    "    print 'summed pred is: ', pred\n",
    "    \n",
    "    if n_classes==2:\n",
    "        tmp_pred = np.copy(pred)\n",
    "        tmp_pred[:,0] *= -1\n",
    "        print (tmp_pred/norm).sum(axis=1)\n",
    "        "
   ]
  },
  {
   "cell_type": "code",
   "execution_count": 65,
   "metadata": {
    "collapsed": false
   },
   "outputs": [
    {
     "data": {
      "text/plain": [
       "2"
      ]
     },
     "execution_count": 65,
     "metadata": {},
     "output_type": "execute_result"
    }
   ],
   "source": [
    "n_classes"
   ]
  },
  {
   "cell_type": "code",
   "execution_count": null,
   "metadata": {
    "collapsed": true
   },
   "outputs": [],
   "source": []
  }
 ],
 "metadata": {
  "kernelspec": {
   "display_name": "Python 2",
   "language": "python",
   "name": "python2"
  },
  "language_info": {
   "codemirror_mode": {
    "name": "ipython",
    "version": 2
   },
   "file_extension": ".py",
   "mimetype": "text/x-python",
   "name": "python",
   "nbconvert_exporter": "python",
   "pygments_lexer": "ipython2",
   "version": "2.7.13"
  }
 },
 "nbformat": 4,
 "nbformat_minor": 2
}
